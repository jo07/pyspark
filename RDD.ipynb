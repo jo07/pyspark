{
 "cells": [
  {
   "cell_type": "markdown",
   "metadata": {},
   "source": [
    "### RDD Basics"
   ]
  },
  {
   "cell_type": "code",
   "execution_count": 1,
   "metadata": {},
   "outputs": [],
   "source": [
    "# Import spark session\n",
    "from pyspark.sql import SparkSession\n",
    "\n"
   ]
  },
  {
   "cell_type": "code",
   "execution_count": 3,
   "metadata": {},
   "outputs": [],
   "source": [
    "# Create SparkSession , cluster manager is 'local' with one partition. Which is minimum\n",
    "spark = SparkSession.builder \\\n",
    "      .master(\"local[1]\") \\\n",
    "      .appName(\"RDDExample\") \\\n",
    "      .getOrCreate() "
   ]
  },
  {
   "cell_type": "code",
   "execution_count": 4,
   "metadata": {},
   "outputs": [],
   "source": [
    "#Create RDD from parallelize    \n",
    "data = [i for i in range(15)]\n",
    "rdd=spark.sparkContext.parallelize(data)"
   ]
  },
  {
   "cell_type": "code",
   "execution_count": 22,
   "metadata": {},
   "outputs": [],
   "source": [
    "#Create RDD from external Data source\n",
    "rdd2 = spark.sparkContext.textFile(\"rdd_file.txt\")"
   ]
  },
  {
   "cell_type": "code",
   "execution_count": 23,
   "metadata": {},
   "outputs": [
    {
     "data": {
      "text/plain": [
       "(126, 1)"
      ]
     },
     "execution_count": 23,
     "metadata": {},
     "output_type": "execute_result"
    }
   ],
   "source": [
    "rdd2.count() , rdd2.getNumPartitions()"
   ]
  },
  {
   "cell_type": "code",
   "execution_count": 10,
   "metadata": {},
   "outputs": [
    {
     "data": {
      "text/plain": [
       "(15, 1)"
      ]
     },
     "execution_count": 10,
     "metadata": {},
     "output_type": "execute_result"
    }
   ],
   "source": [
    "rdd.count() , rdd.getNumPartitions()"
   ]
  },
  {
   "cell_type": "code",
   "execution_count": 25,
   "metadata": {},
   "outputs": [
    {
     "data": {
      "text/plain": [
       "(0, 1)"
      ]
     },
     "execution_count": 25,
     "metadata": {},
     "output_type": "execute_result"
    }
   ],
   "source": [
    "\n",
    "# Creates empty RDD with no partition    \n",
    "rdd = spark.sparkContext.parallelize([]) \n",
    "rdd.count() , rdd.getNumPartitions()"
   ]
  },
  {
   "cell_type": "code",
   "execution_count": 24,
   "metadata": {},
   "outputs": [
    {
     "data": {
      "text/plain": [
       "(0, 10)"
      ]
     },
     "execution_count": 24,
     "metadata": {},
     "output_type": "execute_result"
    }
   ],
   "source": [
    "\n",
    "#Create empty RDD with partition , creates 10 partitions\n",
    "rdd2 = spark.sparkContext.parallelize([],10) \n",
    "rdd2.count() , rdd2.getNumPartitions()"
   ]
  },
  {
   "cell_type": "code",
   "execution_count": 26,
   "metadata": {},
   "outputs": [
    {
     "data": {
      "text/plain": [
       "4"
      ]
     },
     "execution_count": 26,
     "metadata": {},
     "output_type": "execute_result"
    }
   ],
   "source": [
    "# Repartition\n",
    "reparRdd = rdd2.repartition(4)\n",
    "reparRdd.getNumPartitions()"
   ]
  },
  {
   "cell_type": "markdown",
   "metadata": {},
   "source": [
    "### RDD Transformations"
   ]
  },
  {
   "cell_type": "code",
   "execution_count": 27,
   "metadata": {},
   "outputs": [],
   "source": [
    "#Create RDD from external Data source\n",
    "rdd = spark.sparkContext.textFile(\"rdd_file.txt\")"
   ]
  },
  {
   "cell_type": "markdown",
   "metadata": {},
   "source": [
    "#### Flatmap\n",
    "Flattens the rdd. Each item becomes a new record in the RDD"
   ]
  },
  {
   "cell_type": "code",
   "execution_count": 28,
   "metadata": {},
   "outputs": [],
   "source": [
    "rdd2 = rdd.flatMap(lambda x: x.split(\" \"))"
   ]
  },
  {
   "cell_type": "code",
   "execution_count": 29,
   "metadata": {},
   "outputs": [
    {
     "data": {
      "text/plain": [
       "(126, 1)"
      ]
     },
     "execution_count": 29,
     "metadata": {},
     "output_type": "execute_result"
    }
   ],
   "source": [
    "rdd.count() , rdd.getNumPartitions()"
   ]
  },
  {
   "cell_type": "code",
   "execution_count": 30,
   "metadata": {},
   "outputs": [
    {
     "data": {
      "text/plain": [
       "(522, 1)"
      ]
     },
     "execution_count": 30,
     "metadata": {},
     "output_type": "execute_result"
    }
   ],
   "source": [
    "rdd2.count() , rdd2.getNumPartitions()"
   ]
  },
  {
   "cell_type": "markdown",
   "metadata": {},
   "source": [
    "#### Map\n",
    "Used to add or update columns"
   ]
  },
  {
   "cell_type": "code",
   "execution_count": 37,
   "metadata": {},
   "outputs": [
    {
     "data": {
      "text/plain": [
       "pyspark.rdd.PipelinedRDD"
      ]
     },
     "execution_count": 37,
     "metadata": {},
     "output_type": "execute_result"
    }
   ],
   "source": [
    "# map returns a PairRDDFunctions\n",
    "rdd3 = rdd2.map(lambda x: (x,1))\n",
    "type(rdd3)"
   ]
  },
  {
   "cell_type": "code",
   "execution_count": 36,
   "metadata": {},
   "outputs": [
    {
     "data": {
      "text/plain": [
       "[('Project', 1),\n",
       " ('Gutenberg’s', 1),\n",
       " ('Alice’s', 1),\n",
       " ('Adventures', 1),\n",
       " ('in', 1),\n",
       " ('Wonderland', 1),\n",
       " ('by', 1),\n",
       " ('Lewis', 1),\n",
       " ('Carroll', 1),\n",
       " ('This', 1),\n",
       " ('eBook', 1),\n",
       " ('is', 1),\n",
       " ('for', 1),\n",
       " ('the', 1),\n",
       " ('use', 1),\n",
       " ('of', 1),\n",
       " ('anyone', 1),\n",
       " ('anywhere', 1),\n",
       " ('at', 1),\n",
       " ('no', 1),\n",
       " ('cost', 1),\n",
       " ('and', 1),\n",
       " ('with', 1),\n",
       " ('Alice’s', 1),\n",
       " ('Adventures', 1),\n",
       " ('in', 1),\n",
       " ('Wonderland', 1),\n",
       " ('by', 1),\n",
       " ('Lewis', 1),\n",
       " ('Carroll', 1),\n",
       " ('This', 1),\n",
       " ('eBook', 1),\n",
       " ('is', 1),\n",
       " ('for', 1),\n",
       " ('the', 1),\n",
       " ('use', 1),\n",
       " ('of', 1),\n",
       " ('anyone', 1),\n",
       " ('anywhere', 1),\n",
       " ('at', 1),\n",
       " ('no', 1),\n",
       " ('cost', 1),\n",
       " ('and', 1),\n",
       " ('with', 1),\n",
       " ('This', 1),\n",
       " ('eBook', 1),\n",
       " ('is', 1),\n",
       " ('for', 1),\n",
       " ('the', 1),\n",
       " ('use', 1),\n",
       " ('of', 1),\n",
       " ('anyone', 1),\n",
       " ('anywhere', 1),\n",
       " ('at', 1),\n",
       " ('no', 1),\n",
       " ('cost', 1),\n",
       " ('and', 1),\n",
       " ('with', 1),\n",
       " ('Project', 1),\n",
       " ('Gutenberg’s', 1),\n",
       " ('Alice’s', 1),\n",
       " ('Adventures', 1),\n",
       " ('in', 1),\n",
       " ('Wonderland', 1),\n",
       " ('by', 1),\n",
       " ('Lewis', 1),\n",
       " ('Carroll', 1),\n",
       " ('This', 1),\n",
       " ('eBook', 1),\n",
       " ('is', 1),\n",
       " ('for', 1),\n",
       " ('the', 1),\n",
       " ('use', 1),\n",
       " ('of', 1),\n",
       " ('anyone', 1),\n",
       " ('anywhere', 1),\n",
       " ('at', 1),\n",
       " ('no', 1),\n",
       " ('cost', 1),\n",
       " ('and', 1),\n",
       " ('with', 1),\n",
       " ('Alice’s', 1),\n",
       " ('Adventures', 1),\n",
       " ('in', 1),\n",
       " ('Wonderland', 1),\n",
       " ('by', 1),\n",
       " ('Lewis', 1),\n",
       " ('Carroll', 1),\n",
       " ('This', 1),\n",
       " ('eBook', 1),\n",
       " ('is', 1),\n",
       " ('for', 1),\n",
       " ('the', 1),\n",
       " ('use', 1),\n",
       " ('of', 1),\n",
       " ('anyone', 1),\n",
       " ('anywhere', 1),\n",
       " ('at', 1),\n",
       " ('no', 1),\n",
       " ('cost', 1),\n",
       " ('and', 1),\n",
       " ('with', 1),\n",
       " ('This', 1),\n",
       " ('eBook', 1),\n",
       " ('is', 1),\n",
       " ('for', 1),\n",
       " ('the', 1),\n",
       " ('use', 1),\n",
       " ('of', 1),\n",
       " ('anyone', 1),\n",
       " ('anywhere', 1),\n",
       " ('at', 1),\n",
       " ('no', 1),\n",
       " ('cost', 1),\n",
       " ('and', 1),\n",
       " ('with', 1),\n",
       " ('Project', 1),\n",
       " ('Gutenberg’s', 1),\n",
       " ('Alice’s', 1),\n",
       " ('Adventures', 1),\n",
       " ('in', 1),\n",
       " ('Wonderland', 1),\n",
       " ('by', 1),\n",
       " ('Lewis', 1),\n",
       " ('Carroll', 1),\n",
       " ('This', 1),\n",
       " ('eBook', 1),\n",
       " ('is', 1),\n",
       " ('for', 1),\n",
       " ('the', 1),\n",
       " ('use', 1),\n",
       " ('of', 1),\n",
       " ('anyone', 1),\n",
       " ('anywhere', 1),\n",
       " ('at', 1),\n",
       " ('no', 1),\n",
       " ('cost', 1),\n",
       " ('and', 1),\n",
       " ('with', 1),\n",
       " ('Alice’s', 1),\n",
       " ('Adventures', 1),\n",
       " ('in', 1),\n",
       " ('Wonderland', 1),\n",
       " ('by', 1),\n",
       " ('Lewis', 1),\n",
       " ('Carroll', 1),\n",
       " ('This', 1),\n",
       " ('eBook', 1),\n",
       " ('is', 1),\n",
       " ('for', 1),\n",
       " ('the', 1),\n",
       " ('use', 1),\n",
       " ('of', 1),\n",
       " ('anyone', 1),\n",
       " ('anywhere', 1),\n",
       " ('at', 1),\n",
       " ('no', 1),\n",
       " ('cost', 1),\n",
       " ('and', 1),\n",
       " ('with', 1),\n",
       " ('This', 1),\n",
       " ('eBook', 1),\n",
       " ('is', 1),\n",
       " ('for', 1),\n",
       " ('the', 1),\n",
       " ('use', 1),\n",
       " ('of', 1),\n",
       " ('anyone', 1),\n",
       " ('anywhere', 1),\n",
       " ('at', 1),\n",
       " ('no', 1),\n",
       " ('cost', 1),\n",
       " ('and', 1),\n",
       " ('with', 1),\n",
       " ('Project', 1),\n",
       " ('Gutenberg’s', 1),\n",
       " ('Alice’s', 1),\n",
       " ('Adventures', 1),\n",
       " ('in', 1),\n",
       " ('Wonderland', 1),\n",
       " ('by', 1),\n",
       " ('Lewis', 1),\n",
       " ('Carroll', 1),\n",
       " ('This', 1),\n",
       " ('eBook', 1),\n",
       " ('is', 1),\n",
       " ('for', 1),\n",
       " ('the', 1),\n",
       " ('use', 1),\n",
       " ('of', 1),\n",
       " ('anyone', 1),\n",
       " ('anywhere', 1),\n",
       " ('at', 1),\n",
       " ('no', 1),\n",
       " ('cost', 1),\n",
       " ('and', 1),\n",
       " ('with', 1),\n",
       " ('Alice’s', 1),\n",
       " ('Adventures', 1),\n",
       " ('in', 1),\n",
       " ('Wonderland', 1),\n",
       " ('by', 1),\n",
       " ('Lewis', 1),\n",
       " ('Carroll', 1),\n",
       " ('This', 1),\n",
       " ('eBook', 1),\n",
       " ('is', 1),\n",
       " ('for', 1),\n",
       " ('the', 1),\n",
       " ('use', 1),\n",
       " ('of', 1),\n",
       " ('anyone', 1),\n",
       " ('anywhere', 1),\n",
       " ('at', 1),\n",
       " ('no', 1),\n",
       " ('cost', 1),\n",
       " ('and', 1),\n",
       " ('with', 1),\n",
       " ('This', 1),\n",
       " ('eBook', 1),\n",
       " ('is', 1),\n",
       " ('for', 1),\n",
       " ('the', 1),\n",
       " ('use', 1),\n",
       " ('of', 1),\n",
       " ('anyone', 1),\n",
       " ('anywhere', 1),\n",
       " ('at', 1),\n",
       " ('no', 1),\n",
       " ('cost', 1),\n",
       " ('and', 1),\n",
       " ('with', 1),\n",
       " ('Project', 1),\n",
       " ('Gutenberg’s', 1),\n",
       " ('Alice’s', 1),\n",
       " ('Adventures', 1),\n",
       " ('in', 1),\n",
       " ('Wonderland', 1),\n",
       " ('by', 1),\n",
       " ('Lewis', 1),\n",
       " ('Carroll', 1),\n",
       " ('This', 1),\n",
       " ('eBook', 1),\n",
       " ('is', 1),\n",
       " ('for', 1),\n",
       " ('the', 1),\n",
       " ('use', 1),\n",
       " ('of', 1),\n",
       " ('anyone', 1),\n",
       " ('anywhere', 1),\n",
       " ('at', 1),\n",
       " ('no', 1),\n",
       " ('cost', 1),\n",
       " ('and', 1),\n",
       " ('with', 1),\n",
       " ('Alice’s', 1),\n",
       " ('Adventures', 1),\n",
       " ('in', 1),\n",
       " ('Wonderland', 1),\n",
       " ('by', 1),\n",
       " ('Lewis', 1),\n",
       " ('Carroll', 1),\n",
       " ('This', 1),\n",
       " ('eBook', 1),\n",
       " ('is', 1),\n",
       " ('for', 1),\n",
       " ('the', 1),\n",
       " ('use', 1),\n",
       " ('of', 1),\n",
       " ('anyone', 1),\n",
       " ('anywhere', 1),\n",
       " ('at', 1),\n",
       " ('no', 1),\n",
       " ('cost', 1),\n",
       " ('and', 1),\n",
       " ('with', 1),\n",
       " ('This', 1),\n",
       " ('eBook', 1),\n",
       " ('is', 1),\n",
       " ('for', 1),\n",
       " ('the', 1),\n",
       " ('use', 1),\n",
       " ('of', 1),\n",
       " ('anyone', 1),\n",
       " ('anywhere', 1),\n",
       " ('at', 1),\n",
       " ('no', 1),\n",
       " ('cost', 1),\n",
       " ('and', 1),\n",
       " ('with', 1),\n",
       " ('Project', 1),\n",
       " ('Gutenberg’s', 1),\n",
       " ('Alice’s', 1),\n",
       " ('Adventures', 1),\n",
       " ('in', 1),\n",
       " ('Wonderland', 1),\n",
       " ('by', 1),\n",
       " ('Lewis', 1),\n",
       " ('Carroll', 1),\n",
       " ('This', 1),\n",
       " ('eBook', 1),\n",
       " ('is', 1),\n",
       " ('for', 1),\n",
       " ('the', 1),\n",
       " ('use', 1),\n",
       " ('of', 1),\n",
       " ('anyone', 1),\n",
       " ('anywhere', 1),\n",
       " ('at', 1),\n",
       " ('no', 1),\n",
       " ('cost', 1),\n",
       " ('and', 1),\n",
       " ('with', 1),\n",
       " ('Alice’s', 1),\n",
       " ('Adventures', 1),\n",
       " ('in', 1),\n",
       " ('Wonderland', 1),\n",
       " ('by', 1),\n",
       " ('Lewis', 1),\n",
       " ('Carroll', 1),\n",
       " ('This', 1),\n",
       " ('eBook', 1),\n",
       " ('is', 1),\n",
       " ('for', 1),\n",
       " ('the', 1),\n",
       " ('use', 1),\n",
       " ('of', 1),\n",
       " ('anyone', 1),\n",
       " ('anywhere', 1),\n",
       " ('at', 1),\n",
       " ('no', 1),\n",
       " ('cost', 1),\n",
       " ('and', 1),\n",
       " ('with', 1),\n",
       " ('This', 1),\n",
       " ('eBook', 1),\n",
       " ('is', 1),\n",
       " ('for', 1),\n",
       " ('the', 1),\n",
       " ('use', 1),\n",
       " ('of', 1),\n",
       " ('anyone', 1),\n",
       " ('anywhere', 1),\n",
       " ('at', 1),\n",
       " ('no', 1),\n",
       " ('cost', 1),\n",
       " ('and', 1),\n",
       " ('with', 1),\n",
       " ('Project', 1),\n",
       " ('Gutenberg’s', 1),\n",
       " ('Alice’s', 1),\n",
       " ('Adventures', 1),\n",
       " ('in', 1),\n",
       " ('Wonderland', 1),\n",
       " ('by', 1),\n",
       " ('Lewis', 1),\n",
       " ('Carroll', 1),\n",
       " ('This', 1),\n",
       " ('eBook', 1),\n",
       " ('is', 1),\n",
       " ('for', 1),\n",
       " ('the', 1),\n",
       " ('use', 1),\n",
       " ('of', 1),\n",
       " ('anyone', 1),\n",
       " ('anywhere', 1),\n",
       " ('at', 1),\n",
       " ('no', 1),\n",
       " ('cost', 1),\n",
       " ('and', 1),\n",
       " ('with', 1),\n",
       " ('Alice’s', 1),\n",
       " ('Adventures', 1),\n",
       " ('in', 1),\n",
       " ('Wonderland', 1),\n",
       " ('by', 1),\n",
       " ('Lewis', 1),\n",
       " ('Carroll', 1),\n",
       " ('This', 1),\n",
       " ('eBook', 1),\n",
       " ('is', 1),\n",
       " ('for', 1),\n",
       " ('the', 1),\n",
       " ('use', 1),\n",
       " ('of', 1),\n",
       " ('anyone', 1),\n",
       " ('anywhere', 1),\n",
       " ('at', 1),\n",
       " ('no', 1),\n",
       " ('cost', 1),\n",
       " ('and', 1),\n",
       " ('with', 1),\n",
       " ('This', 1),\n",
       " ('eBook', 1),\n",
       " ('is', 1),\n",
       " ('for', 1),\n",
       " ('the', 1),\n",
       " ('use', 1),\n",
       " ('of', 1),\n",
       " ('anyone', 1),\n",
       " ('anywhere', 1),\n",
       " ('at', 1),\n",
       " ('no', 1),\n",
       " ('cost', 1),\n",
       " ('and', 1),\n",
       " ('with', 1),\n",
       " ('Project', 1),\n",
       " ('Gutenberg’s', 1),\n",
       " ('Alice’s', 1),\n",
       " ('Adventures', 1),\n",
       " ('in', 1),\n",
       " ('Wonderland', 1),\n",
       " ('by', 1),\n",
       " ('Lewis', 1),\n",
       " ('Carroll', 1),\n",
       " ('This', 1),\n",
       " ('eBook', 1),\n",
       " ('is', 1),\n",
       " ('for', 1),\n",
       " ('the', 1),\n",
       " ('use', 1),\n",
       " ('of', 1),\n",
       " ('anyone', 1),\n",
       " ('anywhere', 1),\n",
       " ('at', 1),\n",
       " ('no', 1),\n",
       " ('cost', 1),\n",
       " ('and', 1),\n",
       " ('with', 1),\n",
       " ('Alice’s', 1),\n",
       " ('Adventures', 1),\n",
       " ('in', 1),\n",
       " ('Wonderland', 1),\n",
       " ('by', 1),\n",
       " ('Lewis', 1),\n",
       " ('Carroll', 1),\n",
       " ('This', 1),\n",
       " ('eBook', 1),\n",
       " ('is', 1),\n",
       " ('for', 1),\n",
       " ('the', 1),\n",
       " ('use', 1),\n",
       " ('of', 1),\n",
       " ('anyone', 1),\n",
       " ('anywhere', 1),\n",
       " ('at', 1),\n",
       " ('no', 1),\n",
       " ('cost', 1),\n",
       " ('and', 1),\n",
       " ('with', 1),\n",
       " ('This', 1),\n",
       " ('eBook', 1),\n",
       " ('is', 1),\n",
       " ('for', 1),\n",
       " ('the', 1),\n",
       " ('use', 1),\n",
       " ('of', 1),\n",
       " ('anyone', 1),\n",
       " ('anywhere', 1),\n",
       " ('at', 1),\n",
       " ('no', 1),\n",
       " ('cost', 1),\n",
       " ('and', 1),\n",
       " ('with', 1),\n",
       " ('Project', 1),\n",
       " ('Gutenberg’s', 1),\n",
       " ('Alice’s', 1),\n",
       " ('Adventures', 1),\n",
       " ('in', 1),\n",
       " ('Wonderland', 1),\n",
       " ('by', 1),\n",
       " ('Lewis', 1),\n",
       " ('Carroll', 1),\n",
       " ('This', 1),\n",
       " ('eBook', 1),\n",
       " ('is', 1),\n",
       " ('for', 1),\n",
       " ('the', 1),\n",
       " ('use', 1),\n",
       " ('of', 1),\n",
       " ('anyone', 1),\n",
       " ('anywhere', 1),\n",
       " ('at', 1),\n",
       " ('no', 1),\n",
       " ('cost', 1),\n",
       " ('and', 1),\n",
       " ('with', 1),\n",
       " ('Alice’s', 1),\n",
       " ('Adventures', 1),\n",
       " ('in', 1),\n",
       " ('Wonderland', 1),\n",
       " ('by', 1),\n",
       " ('Lewis', 1),\n",
       " ('Carroll', 1),\n",
       " ('This', 1),\n",
       " ('eBook', 1),\n",
       " ('is', 1),\n",
       " ('for', 1),\n",
       " ('the', 1),\n",
       " ('use', 1),\n",
       " ('of', 1),\n",
       " ('anyone', 1),\n",
       " ('anywhere', 1),\n",
       " ('at', 1),\n",
       " ('no', 1),\n",
       " ('cost', 1),\n",
       " ('and', 1),\n",
       " ('with', 1),\n",
       " ('This', 1),\n",
       " ('eBook', 1),\n",
       " ('is', 1),\n",
       " ('for', 1),\n",
       " ('the', 1),\n",
       " ('use', 1),\n",
       " ('of', 1),\n",
       " ('anyone', 1),\n",
       " ('anywhere', 1),\n",
       " ('at', 1),\n",
       " ('no', 1),\n",
       " ('cost', 1),\n",
       " ('and', 1),\n",
       " ('with', 1)]"
      ]
     },
     "execution_count": 36,
     "metadata": {},
     "output_type": "execute_result"
    }
   ],
   "source": [
    "rdd3.collect()"
   ]
  },
  {
   "cell_type": "code",
   "execution_count": 38,
   "metadata": {},
   "outputs": [],
   "source": [
    "data = [('James','Smith','M',30),\n",
    "  ('Anna','Rose','F',41),\n",
    "  ('Robert','Williams','M',62), \n",
    "]"
   ]
  },
  {
   "cell_type": "code",
   "execution_count": 39,
   "metadata": {},
   "outputs": [
    {
     "name": "stdout",
     "output_type": "stream",
     "text": [
      "+---------+--------+------+------+\n",
      "|firstname|lastname|gender|salary|\n",
      "+---------+--------+------+------+\n",
      "|    James|   Smith|     M|    30|\n",
      "|     Anna|    Rose|     F|    41|\n",
      "|   Robert|Williams|     M|    62|\n",
      "+---------+--------+------+------+\n",
      "\n"
     ]
    }
   ],
   "source": [
    "columns = [\"firstname\",\"lastname\",\"gender\",\"salary\"]\n",
    "df = spark.createDataFrame(data=data, schema = columns)\n",
    "df.show()"
   ]
  },
  {
   "cell_type": "code",
   "execution_count": 40,
   "metadata": {},
   "outputs": [
    {
     "data": {
      "text/plain": [
       "pyspark.sql.dataframe.DataFrame"
      ]
     },
     "execution_count": 40,
     "metadata": {},
     "output_type": "execute_result"
    }
   ],
   "source": [
    "type(df)"
   ]
  },
  {
   "cell_type": "code",
   "execution_count": 41,
   "metadata": {},
   "outputs": [
    {
     "name": "stdout",
     "output_type": "stream",
     "text": [
      "+---------------+------+----------+\n",
      "|           name|gender|new_salary|\n",
      "+---------------+------+----------+\n",
      "|    James,Smith|     M|        60|\n",
      "|      Anna,Rose|     F|        82|\n",
      "|Robert,Williams|     M|       124|\n",
      "+---------------+------+----------+\n",
      "\n"
     ]
    }
   ],
   "source": [
    "# Refering columns by index.\n",
    "rdd2=df.rdd.map(lambda x: \n",
    "    (x[0]+\",\"+x[1],x[2],x[3]*2)\n",
    "    )  \n",
    "df2=rdd2.toDF([\"name\",\"gender\",\"new_salary\"])\n",
    "df2.show()"
   ]
  },
  {
   "cell_type": "code",
   "execution_count": 43,
   "metadata": {},
   "outputs": [
    {
     "data": {
      "text/plain": [
       "pyspark.sql.dataframe.DataFrame"
      ]
     },
     "execution_count": 43,
     "metadata": {},
     "output_type": "execute_result"
    }
   ],
   "source": [
    "type(df2)"
   ]
  },
  {
   "cell_type": "code",
   "execution_count": 42,
   "metadata": {},
   "outputs": [],
   "source": [
    "# Alternatively referring Column Names\n",
    "rdd2=df.rdd.map(lambda x: \n",
    "    (x[\"firstname\"]+\",\"+x[\"lastname\"],x[\"gender\"],x[\"salary\"]*2)\n",
    "    ) "
   ]
  },
  {
   "cell_type": "code",
   "execution_count": 45,
   "metadata": {},
   "outputs": [
    {
     "name": "stdout",
     "output_type": "stream",
     "text": [
      "+---------------+------+----------+\n",
      "|           name|gender|new_salary|\n",
      "+---------------+------+----------+\n",
      "|    James,Smith|     M|        60|\n",
      "|      Anna,Rose|     F|        82|\n",
      "|Robert,Williams|     M|       124|\n",
      "+---------------+------+----------+\n",
      "\n"
     ]
    }
   ],
   "source": [
    "rdd2.toDF([\"name\",\"gender\",\"new_salary\"]).show()"
   ]
  },
  {
   "cell_type": "code",
   "execution_count": 47,
   "metadata": {},
   "outputs": [],
   "source": [
    "# Another alternative referring Column Names\n",
    "rdd2=df.rdd.map(lambda x: \n",
    "    (x.firstname+\",\"+x.lastname,x.gender,x.salary*2)\n",
    "    ) "
   ]
  },
  {
   "cell_type": "code",
   "execution_count": 48,
   "metadata": {},
   "outputs": [
    {
     "name": "stdout",
     "output_type": "stream",
     "text": [
      "+---------------+------+----------+\n",
      "|           name|gender|new_salary|\n",
      "+---------------+------+----------+\n",
      "|    James,Smith|     M|        60|\n",
      "|      Anna,Rose|     F|        82|\n",
      "|Robert,Williams|     M|       124|\n",
      "+---------------+------+----------+\n",
      "\n"
     ]
    }
   ],
   "source": [
    "rdd2.toDF([\"name\",\"gender\",\"new_salary\"]).show()"
   ]
  },
  {
   "cell_type": "markdown",
   "metadata": {},
   "source": [
    "#### Filter\n",
    "Used to filter records"
   ]
  },
  {
   "cell_type": "code",
   "execution_count": 58,
   "metadata": {},
   "outputs": [
    {
     "data": {
      "text/plain": [
       "pyspark.rdd.PipelinedRDD"
      ]
     },
     "execution_count": 58,
     "metadata": {},
     "output_type": "execute_result"
    }
   ],
   "source": [
    "rdd4 = rdd2.toDF([\"name\",\"gender\",\"new_salary\"]).rdd.filter(lambda x : x.new_salary > 70)\n",
    "type(rdd4)"
   ]
  },
  {
   "cell_type": "code",
   "execution_count": 59,
   "metadata": {},
   "outputs": [
    {
     "name": "stdout",
     "output_type": "stream",
     "text": [
      "+---------------+------+----------+\n",
      "|           name|gender|new_salary|\n",
      "+---------------+------+----------+\n",
      "|      Anna,Rose|     F|        82|\n",
      "|Robert,Williams|     M|       124|\n",
      "+---------------+------+----------+\n",
      "\n"
     ]
    }
   ],
   "source": [
    "rdd4.toDF().show()"
   ]
  },
  {
   "cell_type": "code",
   "execution_count": null,
   "metadata": {},
   "outputs": [],
   "source": []
  }
 ],
 "metadata": {
  "kernelspec": {
   "display_name": "Python 3",
   "language": "python",
   "name": "python3"
  },
  "language_info": {
   "codemirror_mode": {
    "name": "ipython",
    "version": 3
   },
   "file_extension": ".py",
   "mimetype": "text/x-python",
   "name": "python",
   "nbconvert_exporter": "python",
   "pygments_lexer": "ipython3",
   "version": "3.8.3"
  }
 },
 "nbformat": 4,
 "nbformat_minor": 4
}
